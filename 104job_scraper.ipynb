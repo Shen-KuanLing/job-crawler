{
 "cells": [
  {
   "cell_type": "code",
   "execution_count": 16,
   "id": "d170692f-d6ba-4399-8a86-431759a498e6",
   "metadata": {
    "tags": []
   },
   "outputs": [],
   "source": [
    "from bs4 import BeautifulSoup\n",
    "import requests\n",
    "import json"
   ]
  },
  {
   "cell_type": "code",
   "execution_count": 66,
   "id": "457c1b91-db30-4d45-a29a-8ca1984f96e6",
   "metadata": {
    "tags": []
   },
   "outputs": [],
   "source": [
    "import pymysql\n",
    "\n",
    "# 資料庫參數設定\n",
    "db_settings = {\n",
    "    \"host\": \"127.0.0.1\",\n",
    "    \"port\": 3306,\n",
    "    \"user\": \"root\",\n",
    "    \"password\": \"[password]\",\n",
    "    \"db\": \"crawledData\",\n",
    "    \"charset\": \"\"\n",
    "}"
   ]
  },
  {
   "cell_type": "code",
   "execution_count": 14,
   "id": "12607bb3-5541-4332-8239-1f6cb0ebaff8",
   "metadata": {
    "tags": []
   },
   "outputs": [],
   "source": [
    "# 避免最後一個字是頓號\n",
    "def comma_filter(s):\n",
    "    if(s[-1] == \"、\"):\n",
    "        s = s[:-1]\n",
    "    return s"
   ]
  },
  {
   "cell_type": "code",
   "execution_count": 21,
   "id": "87d831f4-3705-4dd8-90d5-79dba7c6bd26",
   "metadata": {
    "tags": []
   },
   "outputs": [],
   "source": [
    "# 起始爬取頁次（從第二頁開始爬）\n",
    "page = 2\n",
    "# 最終爬取頁次\n",
    "max_page = 4\n",
    "# 存放貼文連結\n",
    "links = []\n",
    "\n",
    "require_name = {\"workExp\": \"工作經歷\", \"edu\": \"學歷要求\", \"major\": \"科系要求\", \"language\": \"語文條件\", \"specialty\": \"擅長工具\", \n",
    "\"skill\": \"工作技能\", \"certificate\": \"具備證照\", \"driverLicense\": \"具備駕照\", \"other\": \"其他條件\"}\n",
    "contact_name = {\"hrName\": \"聯絡人\", \"email\": \"E-mail\", \"phone\": \"電洽\", \"other\": \"其他\",\n",
    "\"reply\": \"應徵回覆\"}"
   ]
  },
  {
   "cell_type": "code",
   "execution_count": 35,
   "id": "f2918058-e534-496f-bd43-0f55e8ea0e77",
   "metadata": {
    "tags": []
   },
   "outputs": [],
   "source": [
    "# 爬取每篇貼文連結\n",
    "\n",
    "while(page < max_page):\n",
    "    url = \"https://www.104.com.tw/jobs/search/?ro=0&jobcat=2007001004&isnew=14&kwop=7&keyword=實習%20intern&expansionType=area%2Cspec%2Ccom%2Cjob%2Cwf%2Cwktm&order=7&asc=0&sr=99&rostatus=1024&page=\" + str(page) + \"&mode=s&langFlag=0&langStatus=0&recommendJob=1&hotJob=1\"\n",
    "    r = requests.get(url)\n",
    "    soup = BeautifulSoup(r.text, \"html.parser\")\n",
    "    posts_links = soup.find_all(class_ = \"js-job-link\")\n",
    "    page += 1\n",
    "    # 儲存該頁的每則貼文連結\n",
    "    for link in posts_links:\n",
    "        links.append(link['href'])"
   ]
  },
  {
   "cell_type": "code",
   "execution_count": null,
   "id": "a0da2b32-d49d-4ab5-9d9d-18a299789198",
   "metadata": {
    "tags": []
   },
   "outputs": [],
   "source": [
    "for link in links:\n",
    "    # 實際請求 api\n",
    "    ind_start = link.find(\"job/\")\n",
    "    ind_end = link.find(\"?\")\n",
    "    ajax_url = \"https:\" + link[:ind_start + 4] + \"ajax/content/\" + link[ind_start + 4:ind_end]\n",
    "\n",
    "    # 需註明來源網址（Referer 參數）才能取得貼文內容\n",
    "    headers = {\n",
    "        \"Referer\": (\"https:\" + link),\n",
    "    }\n",
    "    r_content = requests.get(url = ajax_url, headers = headers)\n",
    "    # data 為送 request 回傳的 json 格式內容，即是貼文內容\n",
    "    data = json.loads(r_content.text)\n",
    "    \n",
    "    title = data[\"data\"][\"header\"][\"jobName\"]\n",
    "    cp_name = data[\"data\"][\"header\"][\"custName\"]\n",
    "    job_desc = data[\"data\"][\"jobDetail\"][\"jobDescription\"]\n",
    "    complete_link = \"https:\" + link[:ind_end]\n",
    "    \n",
    "    # 條件要求\n",
    "    requirement = \"\"\n",
    "    for d in data[\"data\"][\"condition\"]:\n",
    "        # 不爬此欄位\n",
    "        if(d == \"acceptRole\" or (d == \"localLanguage\")):\n",
    "            continue\n",
    "        # 沒有 value 的 key\n",
    "        if(data[\"data\"][\"condition\"][d] == [] or (data[\"data\"][\"condition\"][d] == '')):\n",
    "            continue\n",
    "        \n",
    "        # 條件要求欄位名\n",
    "        requirement += require_name[d] + \": \"\n",
    "        # 其他條件\n",
    "        if(d == \"other\"):\n",
    "            requirement += \"\\n\"\n",
    "        # 擅長工具\n",
    "        if(d == \"specialty\"):\n",
    "            for j in data[\"data\"][\"condition\"][\"specialty\"]:\n",
    "                requirement += (j[\"description\"] + \"、\")\n",
    "        # 科系要求\n",
    "        elif(d == \"major\"):\n",
    "            for j in data[\"data\"][\"condition\"][\"major\"]:\n",
    "                requirement += (j + \"、\") \n",
    "        # 語言條件\n",
    "        elif(d == \"language\"):\n",
    "            for k in data[\"data\"][\"condition\"][\"language\"]:\n",
    "                requirement += (k['language'] + \": \" + k[\"ability\"])\n",
    "        # 具備駕照\n",
    "        elif(d == \"driverLicense\"):\n",
    "            for k in data[\"data\"][\"condition\"][d]:\n",
    "                requirement += (k + \"、\")\n",
    "        # 工作技能\n",
    "        elif(d == \"skill\"):\n",
    "            for k in data[\"data\"][\"condition\"][d]:\n",
    "                requirement += (k[\"description\"] + \"、\")\n",
    "        else:\n",
    "            requirement += data[\"data\"][\"condition\"][d]\n",
    "        requirement = comma_filter(requirement)\n",
    "        requirement += \"\\n\"\n",
    "        \n",
    "    # 待遇福利\n",
    "    benefits = data[\"data\"][\"jobDetail\"][\"salary\"]\n",
    "    if(data[\"data\"][\"welfare\"][\"legalTag\"] != []):\n",
    "        benefits += \"\\n法定項目: \"\n",
    "        for b in data[\"data\"][\"welfare\"][\"legalTag\"]:\n",
    "            benefits += (b + \"、\")\n",
    "        benefits = comma_filter(benefits)\n",
    "    if(data[\"data\"][\"welfare\"][\"welfare\"] != ''):\n",
    "        benefits += (\"\\n其他福利:\\n\" + data[\"data\"][\"welfare\"][\"welfare\"])\n",
    "    # 地址\n",
    "    location = (data[\"data\"][\"jobDetail\"][\"addressRegion\"] + data[\"data\"][\"jobDetail\"][\"addressDetail\"])\n",
    "    # 更新日期\n",
    "    date = data[\"data\"][\"header\"][\"appearDate\"]\n",
    "    # 其他(聯絡資訊)\n",
    "    other = \"聯絡資訊: \"\n",
    "    for c in data[\"data\"][\"contact\"]:\n",
    "        if(c == \"suggestExam\" or (c == \"visit\")):\n",
    "            continue\n",
    "        if(data[\"data\"][\"contact\"][c] == '' or data[\"data\"][\"contact\"][c] == []):\n",
    "            continue\n",
    "        if(c == \"other\"):\n",
    "            other += (\"\\n\" + contact_name[c] + \": \\n\")\n",
    "        elif(c == \"phone\"):\n",
    "            other += (\"\\n\" + contact_name[c] + \": \")\n",
    "            other += data[\"data\"][\"contact\"][c][0]\n",
    "            continue\n",
    "        else:\n",
    "            other += (\"\\n\" + contact_name[c] + \": \")\n",
    "        other += data[\"data\"][\"contact\"][c]\n",
    "    \n",
    "    # 存入 DB\n",
    "    try:\n",
    "        conn = pymysql.connect(**db_settings)\n",
    "        with conn.cursor() as cursor:\n",
    "            insert = \"INSERT INTO 104_content(link, title, cp_name, job_desc, requirement, benefits, location, other) VALUES(%s, %s, %s, %s, %s, %s, %s, %s)\"\n",
    "            cursor.execute(insert, (complete_link ,title, cp_name, job_desc, requirement, benefits, location, other))\n",
    "            conn.commit()\n",
    "    except Exception as ex:\n",
    "        print(ex)\n",
    "        continue"
   ]
  },
  {
   "cell_type": "code",
   "execution_count": null,
   "id": "2d101c23-6f81-4093-8c8d-951fdcf4ea96",
   "metadata": {},
   "outputs": [],
   "source": []
  }
 ],
 "metadata": {
  "kernelspec": {
   "display_name": "Python 3 (ipykernel)",
   "language": "python",
   "name": "python3"
  },
  "language_info": {
   "codemirror_mode": {
    "name": "ipython",
    "version": 3
   },
   "file_extension": ".py",
   "mimetype": "text/x-python",
   "name": "python",
   "nbconvert_exporter": "python",
   "pygments_lexer": "ipython3",
   "version": "3.9.6"
  }
 },
 "nbformat": 4,
 "nbformat_minor": 5
}
